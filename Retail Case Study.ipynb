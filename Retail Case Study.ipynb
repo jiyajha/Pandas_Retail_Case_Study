{
 "cells": [
  {
   "cell_type": "code",
   "execution_count": 1,
   "metadata": {},
   "outputs": [],
   "source": [
    "import pandas as pd\n",
    "import matplotlib.pyplot as plt\n",
    "import seaborn as sns\n",
    "%matplotlib inline"
   ]
  },
  {
   "cell_type": "code",
   "execution_count": 2,
   "metadata": {},
   "outputs": [
    {
     "data": {
      "text/html": [
       "<div>\n",
       "<style scoped>\n",
       "    .dataframe tbody tr th:only-of-type {\n",
       "        vertical-align: middle;\n",
       "    }\n",
       "\n",
       "    .dataframe tbody tr th {\n",
       "        vertical-align: top;\n",
       "    }\n",
       "\n",
       "    .dataframe thead th {\n",
       "        text-align: right;\n",
       "    }\n",
       "</style>\n",
       "<table border=\"1\" class=\"dataframe\">\n",
       "  <thead>\n",
       "    <tr style=\"text-align: right;\">\n",
       "      <th></th>\n",
       "      <th>customer_Id</th>\n",
       "      <th>DOB</th>\n",
       "      <th>Gender</th>\n",
       "      <th>city_code</th>\n",
       "    </tr>\n",
       "  </thead>\n",
       "  <tbody>\n",
       "    <tr>\n",
       "      <th>0</th>\n",
       "      <td>268408</td>\n",
       "      <td>02-01-1970</td>\n",
       "      <td>M</td>\n",
       "      <td>4.0</td>\n",
       "    </tr>\n",
       "    <tr>\n",
       "      <th>1</th>\n",
       "      <td>269696</td>\n",
       "      <td>07-01-1970</td>\n",
       "      <td>F</td>\n",
       "      <td>8.0</td>\n",
       "    </tr>\n",
       "    <tr>\n",
       "      <th>2</th>\n",
       "      <td>268159</td>\n",
       "      <td>08-01-1970</td>\n",
       "      <td>F</td>\n",
       "      <td>8.0</td>\n",
       "    </tr>\n",
       "    <tr>\n",
       "      <th>3</th>\n",
       "      <td>270181</td>\n",
       "      <td>10-01-1970</td>\n",
       "      <td>F</td>\n",
       "      <td>2.0</td>\n",
       "    </tr>\n",
       "    <tr>\n",
       "      <th>4</th>\n",
       "      <td>268073</td>\n",
       "      <td>11-01-1970</td>\n",
       "      <td>M</td>\n",
       "      <td>1.0</td>\n",
       "    </tr>\n",
       "  </tbody>\n",
       "</table>\n",
       "</div>"
      ],
      "text/plain": [
       "   customer_Id         DOB Gender  city_code\n",
       "0       268408  02-01-1970      M        4.0\n",
       "1       269696  07-01-1970      F        8.0\n",
       "2       268159  08-01-1970      F        8.0\n",
       "3       270181  10-01-1970      F        2.0\n",
       "4       268073  11-01-1970      M        1.0"
      ]
     },
     "execution_count": 2,
     "metadata": {},
     "output_type": "execute_result"
    }
   ],
   "source": [
    "customers = pd.read_csv(\"Customer.csv\")\n",
    "customers.head()"
   ]
  },
  {
   "cell_type": "code",
   "execution_count": 3,
   "metadata": {},
   "outputs": [
    {
     "data": {
      "text/html": [
       "<div>\n",
       "<style scoped>\n",
       "    .dataframe tbody tr th:only-of-type {\n",
       "        vertical-align: middle;\n",
       "    }\n",
       "\n",
       "    .dataframe tbody tr th {\n",
       "        vertical-align: top;\n",
       "    }\n",
       "\n",
       "    .dataframe thead th {\n",
       "        text-align: right;\n",
       "    }\n",
       "</style>\n",
       "<table border=\"1\" class=\"dataframe\">\n",
       "  <thead>\n",
       "    <tr style=\"text-align: right;\">\n",
       "      <th></th>\n",
       "      <th>transaction_id</th>\n",
       "      <th>cust_id</th>\n",
       "      <th>tran_date</th>\n",
       "      <th>prod_subcat_code</th>\n",
       "      <th>prod_cat_code</th>\n",
       "      <th>Qty</th>\n",
       "      <th>Rate</th>\n",
       "      <th>Tax</th>\n",
       "      <th>total_amt</th>\n",
       "      <th>Store_type</th>\n",
       "    </tr>\n",
       "  </thead>\n",
       "  <tbody>\n",
       "    <tr>\n",
       "      <th>0</th>\n",
       "      <td>80712190438</td>\n",
       "      <td>270351</td>\n",
       "      <td>28-02-2014</td>\n",
       "      <td>1</td>\n",
       "      <td>1</td>\n",
       "      <td>-5</td>\n",
       "      <td>-772</td>\n",
       "      <td>405.300</td>\n",
       "      <td>-4265.300</td>\n",
       "      <td>e-Shop</td>\n",
       "    </tr>\n",
       "    <tr>\n",
       "      <th>1</th>\n",
       "      <td>29258453508</td>\n",
       "      <td>270384</td>\n",
       "      <td>27-02-2014</td>\n",
       "      <td>5</td>\n",
       "      <td>3</td>\n",
       "      <td>-5</td>\n",
       "      <td>-1497</td>\n",
       "      <td>785.925</td>\n",
       "      <td>-8270.925</td>\n",
       "      <td>e-Shop</td>\n",
       "    </tr>\n",
       "    <tr>\n",
       "      <th>2</th>\n",
       "      <td>51750724947</td>\n",
       "      <td>273420</td>\n",
       "      <td>24-02-2014</td>\n",
       "      <td>6</td>\n",
       "      <td>5</td>\n",
       "      <td>-2</td>\n",
       "      <td>-791</td>\n",
       "      <td>166.110</td>\n",
       "      <td>-1748.110</td>\n",
       "      <td>TeleShop</td>\n",
       "    </tr>\n",
       "    <tr>\n",
       "      <th>3</th>\n",
       "      <td>93274880719</td>\n",
       "      <td>271509</td>\n",
       "      <td>24-02-2014</td>\n",
       "      <td>11</td>\n",
       "      <td>6</td>\n",
       "      <td>-3</td>\n",
       "      <td>-1363</td>\n",
       "      <td>429.345</td>\n",
       "      <td>-4518.345</td>\n",
       "      <td>e-Shop</td>\n",
       "    </tr>\n",
       "    <tr>\n",
       "      <th>4</th>\n",
       "      <td>51750724947</td>\n",
       "      <td>273420</td>\n",
       "      <td>23-02-2014</td>\n",
       "      <td>6</td>\n",
       "      <td>5</td>\n",
       "      <td>-2</td>\n",
       "      <td>-791</td>\n",
       "      <td>166.110</td>\n",
       "      <td>-1748.110</td>\n",
       "      <td>TeleShop</td>\n",
       "    </tr>\n",
       "  </tbody>\n",
       "</table>\n",
       "</div>"
      ],
      "text/plain": [
       "   transaction_id  cust_id   tran_date  prod_subcat_code  prod_cat_code  Qty  \\\n",
       "0     80712190438   270351  28-02-2014                 1              1   -5   \n",
       "1     29258453508   270384  27-02-2014                 5              3   -5   \n",
       "2     51750724947   273420  24-02-2014                 6              5   -2   \n",
       "3     93274880719   271509  24-02-2014                11              6   -3   \n",
       "4     51750724947   273420  23-02-2014                 6              5   -2   \n",
       "\n",
       "   Rate      Tax  total_amt Store_type  \n",
       "0  -772  405.300  -4265.300     e-Shop  \n",
       "1 -1497  785.925  -8270.925     e-Shop  \n",
       "2  -791  166.110  -1748.110   TeleShop  \n",
       "3 -1363  429.345  -4518.345     e-Shop  \n",
       "4  -791  166.110  -1748.110   TeleShop  "
      ]
     },
     "execution_count": 3,
     "metadata": {},
     "output_type": "execute_result"
    }
   ],
   "source": [
    "transactions = pd.read_csv(\"transactions.csv\")\n",
    "transactions.head()"
   ]
  },
  {
   "cell_type": "code",
   "execution_count": 4,
   "metadata": {},
   "outputs": [
    {
     "data": {
      "text/html": [
       "<div>\n",
       "<style scoped>\n",
       "    .dataframe tbody tr th:only-of-type {\n",
       "        vertical-align: middle;\n",
       "    }\n",
       "\n",
       "    .dataframe tbody tr th {\n",
       "        vertical-align: top;\n",
       "    }\n",
       "\n",
       "    .dataframe thead th {\n",
       "        text-align: right;\n",
       "    }\n",
       "</style>\n",
       "<table border=\"1\" class=\"dataframe\">\n",
       "  <thead>\n",
       "    <tr style=\"text-align: right;\">\n",
       "      <th></th>\n",
       "      <th>prod_cat_code</th>\n",
       "      <th>prod_cat</th>\n",
       "      <th>prod_sub_cat_code</th>\n",
       "      <th>prod_subcat</th>\n",
       "    </tr>\n",
       "  </thead>\n",
       "  <tbody>\n",
       "    <tr>\n",
       "      <th>0</th>\n",
       "      <td>1</td>\n",
       "      <td>Clothing</td>\n",
       "      <td>4</td>\n",
       "      <td>Mens</td>\n",
       "    </tr>\n",
       "    <tr>\n",
       "      <th>1</th>\n",
       "      <td>1</td>\n",
       "      <td>Clothing</td>\n",
       "      <td>1</td>\n",
       "      <td>Women</td>\n",
       "    </tr>\n",
       "    <tr>\n",
       "      <th>2</th>\n",
       "      <td>1</td>\n",
       "      <td>Clothing</td>\n",
       "      <td>3</td>\n",
       "      <td>Kids</td>\n",
       "    </tr>\n",
       "    <tr>\n",
       "      <th>3</th>\n",
       "      <td>2</td>\n",
       "      <td>Footwear</td>\n",
       "      <td>1</td>\n",
       "      <td>Mens</td>\n",
       "    </tr>\n",
       "    <tr>\n",
       "      <th>4</th>\n",
       "      <td>2</td>\n",
       "      <td>Footwear</td>\n",
       "      <td>3</td>\n",
       "      <td>Women</td>\n",
       "    </tr>\n",
       "  </tbody>\n",
       "</table>\n",
       "</div>"
      ],
      "text/plain": [
       "   prod_cat_code  prod_cat  prod_sub_cat_code prod_subcat\n",
       "0              1  Clothing                  4        Mens\n",
       "1              1  Clothing                  1       Women\n",
       "2              1  Clothing                  3        Kids\n",
       "3              2  Footwear                  1        Mens\n",
       "4              2  Footwear                  3       Women"
      ]
     },
     "execution_count": 4,
     "metadata": {},
     "output_type": "execute_result"
    }
   ],
   "source": [
    "prod_info = pd.read_csv(\"prod_cat_info.csv\")\n",
    "prod_info.head()"
   ]
  },
  {
   "cell_type": "markdown",
   "metadata": {},
   "source": [
    "### 1. Merge the datasets Customers, Product Hierarchy and Transactions as Customer_Final. Ensure to keep all customers who have done transactions with us and select the join type accordingly"
   ]
  },
  {
   "cell_type": "code",
   "execution_count": 5,
   "metadata": {},
   "outputs": [],
   "source": [
    "customer_transaction = pd.merge(left = customers, right = transactions, left_on = \"customer_Id\", right_on = \"cust_id\", how = \"right\", indicator = True)"
   ]
  },
  {
   "cell_type": "code",
   "execution_count": 6,
   "metadata": {},
   "outputs": [
    {
     "data": {
      "text/html": [
       "<div>\n",
       "<style scoped>\n",
       "    .dataframe tbody tr th:only-of-type {\n",
       "        vertical-align: middle;\n",
       "    }\n",
       "\n",
       "    .dataframe tbody tr th {\n",
       "        vertical-align: top;\n",
       "    }\n",
       "\n",
       "    .dataframe thead th {\n",
       "        text-align: right;\n",
       "    }\n",
       "</style>\n",
       "<table border=\"1\" class=\"dataframe\">\n",
       "  <thead>\n",
       "    <tr style=\"text-align: right;\">\n",
       "      <th></th>\n",
       "      <th>customer_Id</th>\n",
       "      <th>DOB</th>\n",
       "      <th>Gender</th>\n",
       "      <th>city_code</th>\n",
       "      <th>transaction_id</th>\n",
       "      <th>cust_id</th>\n",
       "      <th>tran_date</th>\n",
       "      <th>prod_subcat_code</th>\n",
       "      <th>prod_cat_code</th>\n",
       "      <th>Qty</th>\n",
       "      <th>Rate</th>\n",
       "      <th>Tax</th>\n",
       "      <th>total_amt</th>\n",
       "      <th>Store_type</th>\n",
       "      <th>_merge</th>\n",
       "    </tr>\n",
       "  </thead>\n",
       "  <tbody>\n",
       "    <tr>\n",
       "      <th>0</th>\n",
       "      <td>268408</td>\n",
       "      <td>02-01-1970</td>\n",
       "      <td>M</td>\n",
       "      <td>4.0</td>\n",
       "      <td>87243835584</td>\n",
       "      <td>268408</td>\n",
       "      <td>13-01-2014</td>\n",
       "      <td>7</td>\n",
       "      <td>5</td>\n",
       "      <td>5</td>\n",
       "      <td>187</td>\n",
       "      <td>98.175</td>\n",
       "      <td>1033.175</td>\n",
       "      <td>TeleShop</td>\n",
       "      <td>both</td>\n",
       "    </tr>\n",
       "    <tr>\n",
       "      <th>1</th>\n",
       "      <td>268408</td>\n",
       "      <td>02-01-1970</td>\n",
       "      <td>M</td>\n",
       "      <td>4.0</td>\n",
       "      <td>16197868036</td>\n",
       "      <td>268408</td>\n",
       "      <td>16-12-2013</td>\n",
       "      <td>1</td>\n",
       "      <td>4</td>\n",
       "      <td>-5</td>\n",
       "      <td>-210</td>\n",
       "      <td>110.250</td>\n",
       "      <td>-1160.250</td>\n",
       "      <td>Flagship store</td>\n",
       "      <td>both</td>\n",
       "    </tr>\n",
       "    <tr>\n",
       "      <th>2</th>\n",
       "      <td>268408</td>\n",
       "      <td>02-01-1970</td>\n",
       "      <td>M</td>\n",
       "      <td>4.0</td>\n",
       "      <td>16197868036</td>\n",
       "      <td>268408</td>\n",
       "      <td>12/12/2013</td>\n",
       "      <td>1</td>\n",
       "      <td>4</td>\n",
       "      <td>5</td>\n",
       "      <td>210</td>\n",
       "      <td>110.250</td>\n",
       "      <td>1160.250</td>\n",
       "      <td>Flagship store</td>\n",
       "      <td>both</td>\n",
       "    </tr>\n",
       "    <tr>\n",
       "      <th>3</th>\n",
       "      <td>268408</td>\n",
       "      <td>02-01-1970</td>\n",
       "      <td>M</td>\n",
       "      <td>4.0</td>\n",
       "      <td>28810141075</td>\n",
       "      <td>268408</td>\n",
       "      <td>2/9/2013</td>\n",
       "      <td>10</td>\n",
       "      <td>6</td>\n",
       "      <td>2</td>\n",
       "      <td>813</td>\n",
       "      <td>170.730</td>\n",
       "      <td>1796.730</td>\n",
       "      <td>TeleShop</td>\n",
       "      <td>both</td>\n",
       "    </tr>\n",
       "    <tr>\n",
       "      <th>4</th>\n",
       "      <td>268408</td>\n",
       "      <td>02-01-1970</td>\n",
       "      <td>M</td>\n",
       "      <td>4.0</td>\n",
       "      <td>64633435931</td>\n",
       "      <td>268408</td>\n",
       "      <td>6/5/2013</td>\n",
       "      <td>4</td>\n",
       "      <td>2</td>\n",
       "      <td>3</td>\n",
       "      <td>312</td>\n",
       "      <td>98.280</td>\n",
       "      <td>1034.280</td>\n",
       "      <td>Flagship store</td>\n",
       "      <td>both</td>\n",
       "    </tr>\n",
       "  </tbody>\n",
       "</table>\n",
       "</div>"
      ],
      "text/plain": [
       "   customer_Id         DOB Gender  city_code  transaction_id  cust_id  \\\n",
       "0       268408  02-01-1970      M        4.0     87243835584   268408   \n",
       "1       268408  02-01-1970      M        4.0     16197868036   268408   \n",
       "2       268408  02-01-1970      M        4.0     16197868036   268408   \n",
       "3       268408  02-01-1970      M        4.0     28810141075   268408   \n",
       "4       268408  02-01-1970      M        4.0     64633435931   268408   \n",
       "\n",
       "    tran_date  prod_subcat_code  prod_cat_code  Qty  Rate      Tax  total_amt  \\\n",
       "0  13-01-2014                 7              5    5   187   98.175   1033.175   \n",
       "1  16-12-2013                 1              4   -5  -210  110.250  -1160.250   \n",
       "2  12/12/2013                 1              4    5   210  110.250   1160.250   \n",
       "3    2/9/2013                10              6    2   813  170.730   1796.730   \n",
       "4    6/5/2013                 4              2    3   312   98.280   1034.280   \n",
       "\n",
       "       Store_type _merge  \n",
       "0        TeleShop   both  \n",
       "1  Flagship store   both  \n",
       "2  Flagship store   both  \n",
       "3        TeleShop   both  \n",
       "4  Flagship store   both  "
      ]
     },
     "execution_count": 6,
     "metadata": {},
     "output_type": "execute_result"
    }
   ],
   "source": [
    "customer_transaction.head()"
   ]
  },
  {
   "cell_type": "code",
   "execution_count": 7,
   "metadata": {},
   "outputs": [],
   "source": [
    "customer_transaction_product = pd.merge(left = customer_transaction, right = prod_info, left_on = [\"prod_cat_code\", \"prod_subcat_code\"], right_on = [\"prod_cat_code\", \"prod_sub_cat_code\"], indicator = \"exists\")"
   ]
  },
  {
   "cell_type": "code",
   "execution_count": 8,
   "metadata": {},
   "outputs": [
    {
     "data": {
      "text/html": [
       "<div>\n",
       "<style scoped>\n",
       "    .dataframe tbody tr th:only-of-type {\n",
       "        vertical-align: middle;\n",
       "    }\n",
       "\n",
       "    .dataframe tbody tr th {\n",
       "        vertical-align: top;\n",
       "    }\n",
       "\n",
       "    .dataframe thead th {\n",
       "        text-align: right;\n",
       "    }\n",
       "</style>\n",
       "<table border=\"1\" class=\"dataframe\">\n",
       "  <thead>\n",
       "    <tr style=\"text-align: right;\">\n",
       "      <th></th>\n",
       "      <th>customer_Id</th>\n",
       "      <th>DOB</th>\n",
       "      <th>Gender</th>\n",
       "      <th>city_code</th>\n",
       "      <th>transaction_id</th>\n",
       "      <th>cust_id</th>\n",
       "      <th>tran_date</th>\n",
       "      <th>prod_subcat_code</th>\n",
       "      <th>prod_cat_code</th>\n",
       "      <th>Qty</th>\n",
       "      <th>Rate</th>\n",
       "      <th>Tax</th>\n",
       "      <th>total_amt</th>\n",
       "      <th>Store_type</th>\n",
       "      <th>_merge</th>\n",
       "      <th>prod_cat</th>\n",
       "      <th>prod_sub_cat_code</th>\n",
       "      <th>prod_subcat</th>\n",
       "      <th>exists</th>\n",
       "    </tr>\n",
       "  </thead>\n",
       "  <tbody>\n",
       "    <tr>\n",
       "      <th>0</th>\n",
       "      <td>268408</td>\n",
       "      <td>02-01-1970</td>\n",
       "      <td>M</td>\n",
       "      <td>4.0</td>\n",
       "      <td>87243835584</td>\n",
       "      <td>268408</td>\n",
       "      <td>13-01-2014</td>\n",
       "      <td>7</td>\n",
       "      <td>5</td>\n",
       "      <td>5</td>\n",
       "      <td>187</td>\n",
       "      <td>98.175</td>\n",
       "      <td>1033.175</td>\n",
       "      <td>TeleShop</td>\n",
       "      <td>both</td>\n",
       "      <td>Books</td>\n",
       "      <td>7</td>\n",
       "      <td>Fiction</td>\n",
       "      <td>both</td>\n",
       "    </tr>\n",
       "    <tr>\n",
       "      <th>1</th>\n",
       "      <td>275152</td>\n",
       "      <td>16-01-1970</td>\n",
       "      <td>M</td>\n",
       "      <td>4.0</td>\n",
       "      <td>73109425404</td>\n",
       "      <td>275152</td>\n",
       "      <td>25-03-2011</td>\n",
       "      <td>7</td>\n",
       "      <td>5</td>\n",
       "      <td>2</td>\n",
       "      <td>464</td>\n",
       "      <td>97.440</td>\n",
       "      <td>1025.440</td>\n",
       "      <td>e-Shop</td>\n",
       "      <td>both</td>\n",
       "      <td>Books</td>\n",
       "      <td>7</td>\n",
       "      <td>Fiction</td>\n",
       "      <td>both</td>\n",
       "    </tr>\n",
       "    <tr>\n",
       "      <th>2</th>\n",
       "      <td>275034</td>\n",
       "      <td>18-01-1970</td>\n",
       "      <td>F</td>\n",
       "      <td>4.0</td>\n",
       "      <td>64777271023</td>\n",
       "      <td>275034</td>\n",
       "      <td>23-05-2011</td>\n",
       "      <td>7</td>\n",
       "      <td>5</td>\n",
       "      <td>2</td>\n",
       "      <td>197</td>\n",
       "      <td>41.370</td>\n",
       "      <td>435.370</td>\n",
       "      <td>Flagship store</td>\n",
       "      <td>both</td>\n",
       "      <td>Books</td>\n",
       "      <td>7</td>\n",
       "      <td>Fiction</td>\n",
       "      <td>both</td>\n",
       "    </tr>\n",
       "    <tr>\n",
       "      <th>3</th>\n",
       "      <td>270829</td>\n",
       "      <td>22-01-1970</td>\n",
       "      <td>F</td>\n",
       "      <td>8.0</td>\n",
       "      <td>87174343938</td>\n",
       "      <td>270829</td>\n",
       "      <td>9/12/2013</td>\n",
       "      <td>7</td>\n",
       "      <td>5</td>\n",
       "      <td>4</td>\n",
       "      <td>1141</td>\n",
       "      <td>479.220</td>\n",
       "      <td>5043.220</td>\n",
       "      <td>e-Shop</td>\n",
       "      <td>both</td>\n",
       "      <td>Books</td>\n",
       "      <td>7</td>\n",
       "      <td>Fiction</td>\n",
       "      <td>both</td>\n",
       "    </tr>\n",
       "    <tr>\n",
       "      <th>4</th>\n",
       "      <td>267657</td>\n",
       "      <td>29-01-1970</td>\n",
       "      <td>F</td>\n",
       "      <td>7.0</td>\n",
       "      <td>76242744953</td>\n",
       "      <td>267657</td>\n",
       "      <td>23-05-2013</td>\n",
       "      <td>7</td>\n",
       "      <td>5</td>\n",
       "      <td>4</td>\n",
       "      <td>1020</td>\n",
       "      <td>428.400</td>\n",
       "      <td>4508.400</td>\n",
       "      <td>e-Shop</td>\n",
       "      <td>both</td>\n",
       "      <td>Books</td>\n",
       "      <td>7</td>\n",
       "      <td>Fiction</td>\n",
       "      <td>both</td>\n",
       "    </tr>\n",
       "  </tbody>\n",
       "</table>\n",
       "</div>"
      ],
      "text/plain": [
       "   customer_Id         DOB Gender  city_code  transaction_id  cust_id  \\\n",
       "0       268408  02-01-1970      M        4.0     87243835584   268408   \n",
       "1       275152  16-01-1970      M        4.0     73109425404   275152   \n",
       "2       275034  18-01-1970      F        4.0     64777271023   275034   \n",
       "3       270829  22-01-1970      F        8.0     87174343938   270829   \n",
       "4       267657  29-01-1970      F        7.0     76242744953   267657   \n",
       "\n",
       "    tran_date  prod_subcat_code  prod_cat_code  Qty  Rate      Tax  total_amt  \\\n",
       "0  13-01-2014                 7              5    5   187   98.175   1033.175   \n",
       "1  25-03-2011                 7              5    2   464   97.440   1025.440   \n",
       "2  23-05-2011                 7              5    2   197   41.370    435.370   \n",
       "3   9/12/2013                 7              5    4  1141  479.220   5043.220   \n",
       "4  23-05-2013                 7              5    4  1020  428.400   4508.400   \n",
       "\n",
       "       Store_type _merge prod_cat  prod_sub_cat_code prod_subcat exists  \n",
       "0        TeleShop   both    Books                  7     Fiction   both  \n",
       "1          e-Shop   both    Books                  7     Fiction   both  \n",
       "2  Flagship store   both    Books                  7     Fiction   both  \n",
       "3          e-Shop   both    Books                  7     Fiction   both  \n",
       "4          e-Shop   both    Books                  7     Fiction   both  "
      ]
     },
     "execution_count": 8,
     "metadata": {},
     "output_type": "execute_result"
    }
   ],
   "source": [
    "customer_transaction_product.head()"
   ]
  },
  {
   "cell_type": "code",
   "execution_count": 9,
   "metadata": {},
   "outputs": [],
   "source": [
    "customer_final = customer_transaction_product.iloc[:, [0,1,2,3,4,6,7,8,9,10,11,12,13,15,16,17]]"
   ]
  },
  {
   "cell_type": "code",
   "execution_count": 10,
   "metadata": {},
   "outputs": [
    {
     "data": {
      "text/html": [
       "<div>\n",
       "<style scoped>\n",
       "    .dataframe tbody tr th:only-of-type {\n",
       "        vertical-align: middle;\n",
       "    }\n",
       "\n",
       "    .dataframe tbody tr th {\n",
       "        vertical-align: top;\n",
       "    }\n",
       "\n",
       "    .dataframe thead th {\n",
       "        text-align: right;\n",
       "    }\n",
       "</style>\n",
       "<table border=\"1\" class=\"dataframe\">\n",
       "  <thead>\n",
       "    <tr style=\"text-align: right;\">\n",
       "      <th></th>\n",
       "      <th>customer_Id</th>\n",
       "      <th>DOB</th>\n",
       "      <th>Gender</th>\n",
       "      <th>city_code</th>\n",
       "      <th>transaction_id</th>\n",
       "      <th>tran_date</th>\n",
       "      <th>prod_subcat_code</th>\n",
       "      <th>prod_cat_code</th>\n",
       "      <th>Qty</th>\n",
       "      <th>Rate</th>\n",
       "      <th>Tax</th>\n",
       "      <th>total_amt</th>\n",
       "      <th>Store_type</th>\n",
       "      <th>prod_cat</th>\n",
       "      <th>prod_sub_cat_code</th>\n",
       "      <th>prod_subcat</th>\n",
       "    </tr>\n",
       "  </thead>\n",
       "  <tbody>\n",
       "    <tr>\n",
       "      <th>0</th>\n",
       "      <td>268408</td>\n",
       "      <td>02-01-1970</td>\n",
       "      <td>M</td>\n",
       "      <td>4.0</td>\n",
       "      <td>87243835584</td>\n",
       "      <td>13-01-2014</td>\n",
       "      <td>7</td>\n",
       "      <td>5</td>\n",
       "      <td>5</td>\n",
       "      <td>187</td>\n",
       "      <td>98.175</td>\n",
       "      <td>1033.175</td>\n",
       "      <td>TeleShop</td>\n",
       "      <td>Books</td>\n",
       "      <td>7</td>\n",
       "      <td>Fiction</td>\n",
       "    </tr>\n",
       "    <tr>\n",
       "      <th>1</th>\n",
       "      <td>275152</td>\n",
       "      <td>16-01-1970</td>\n",
       "      <td>M</td>\n",
       "      <td>4.0</td>\n",
       "      <td>73109425404</td>\n",
       "      <td>25-03-2011</td>\n",
       "      <td>7</td>\n",
       "      <td>5</td>\n",
       "      <td>2</td>\n",
       "      <td>464</td>\n",
       "      <td>97.440</td>\n",
       "      <td>1025.440</td>\n",
       "      <td>e-Shop</td>\n",
       "      <td>Books</td>\n",
       "      <td>7</td>\n",
       "      <td>Fiction</td>\n",
       "    </tr>\n",
       "    <tr>\n",
       "      <th>2</th>\n",
       "      <td>275034</td>\n",
       "      <td>18-01-1970</td>\n",
       "      <td>F</td>\n",
       "      <td>4.0</td>\n",
       "      <td>64777271023</td>\n",
       "      <td>23-05-2011</td>\n",
       "      <td>7</td>\n",
       "      <td>5</td>\n",
       "      <td>2</td>\n",
       "      <td>197</td>\n",
       "      <td>41.370</td>\n",
       "      <td>435.370</td>\n",
       "      <td>Flagship store</td>\n",
       "      <td>Books</td>\n",
       "      <td>7</td>\n",
       "      <td>Fiction</td>\n",
       "    </tr>\n",
       "    <tr>\n",
       "      <th>3</th>\n",
       "      <td>270829</td>\n",
       "      <td>22-01-1970</td>\n",
       "      <td>F</td>\n",
       "      <td>8.0</td>\n",
       "      <td>87174343938</td>\n",
       "      <td>9/12/2013</td>\n",
       "      <td>7</td>\n",
       "      <td>5</td>\n",
       "      <td>4</td>\n",
       "      <td>1141</td>\n",
       "      <td>479.220</td>\n",
       "      <td>5043.220</td>\n",
       "      <td>e-Shop</td>\n",
       "      <td>Books</td>\n",
       "      <td>7</td>\n",
       "      <td>Fiction</td>\n",
       "    </tr>\n",
       "    <tr>\n",
       "      <th>4</th>\n",
       "      <td>267657</td>\n",
       "      <td>29-01-1970</td>\n",
       "      <td>F</td>\n",
       "      <td>7.0</td>\n",
       "      <td>76242744953</td>\n",
       "      <td>23-05-2013</td>\n",
       "      <td>7</td>\n",
       "      <td>5</td>\n",
       "      <td>4</td>\n",
       "      <td>1020</td>\n",
       "      <td>428.400</td>\n",
       "      <td>4508.400</td>\n",
       "      <td>e-Shop</td>\n",
       "      <td>Books</td>\n",
       "      <td>7</td>\n",
       "      <td>Fiction</td>\n",
       "    </tr>\n",
       "  </tbody>\n",
       "</table>\n",
       "</div>"
      ],
      "text/plain": [
       "   customer_Id         DOB Gender  city_code  transaction_id   tran_date  \\\n",
       "0       268408  02-01-1970      M        4.0     87243835584  13-01-2014   \n",
       "1       275152  16-01-1970      M        4.0     73109425404  25-03-2011   \n",
       "2       275034  18-01-1970      F        4.0     64777271023  23-05-2011   \n",
       "3       270829  22-01-1970      F        8.0     87174343938   9/12/2013   \n",
       "4       267657  29-01-1970      F        7.0     76242744953  23-05-2013   \n",
       "\n",
       "   prod_subcat_code  prod_cat_code  Qty  Rate      Tax  total_amt  \\\n",
       "0                 7              5    5   187   98.175   1033.175   \n",
       "1                 7              5    2   464   97.440   1025.440   \n",
       "2                 7              5    2   197   41.370    435.370   \n",
       "3                 7              5    4  1141  479.220   5043.220   \n",
       "4                 7              5    4  1020  428.400   4508.400   \n",
       "\n",
       "       Store_type prod_cat  prod_sub_cat_code prod_subcat  \n",
       "0        TeleShop    Books                  7     Fiction  \n",
       "1          e-Shop    Books                  7     Fiction  \n",
       "2  Flagship store    Books                  7     Fiction  \n",
       "3          e-Shop    Books                  7     Fiction  \n",
       "4          e-Shop    Books                  7     Fiction  "
      ]
     },
     "execution_count": 10,
     "metadata": {},
     "output_type": "execute_result"
    }
   ],
   "source": [
    "customer_final.head()"
   ]
  },
  {
   "cell_type": "markdown",
   "metadata": {},
   "source": [
    "### 2. Prepare a summary report for the merged data set. \n",
    "#### a. Get the column names and their corresponding data types"
   ]
  },
  {
   "cell_type": "code",
   "execution_count": 11,
   "metadata": {},
   "outputs": [
    {
     "data": {
      "text/plain": [
       "customer_Id            int64\n",
       "DOB                   object\n",
       "Gender                object\n",
       "city_code            float64\n",
       "transaction_id         int64\n",
       "tran_date             object\n",
       "prod_subcat_code       int64\n",
       "prod_cat_code          int64\n",
       "Qty                    int64\n",
       "Rate                   int64\n",
       "Tax                  float64\n",
       "total_amt            float64\n",
       "Store_type            object\n",
       "prod_cat              object\n",
       "prod_sub_cat_code      int64\n",
       "prod_subcat           object\n",
       "dtype: object"
      ]
     },
     "execution_count": 11,
     "metadata": {},
     "output_type": "execute_result"
    }
   ],
   "source": [
    "customer_final.dtypes"
   ]
  },
  {
   "cell_type": "markdown",
   "metadata": {},
   "source": [
    "#### b. Top/Bottom 10 observations"
   ]
  },
  {
   "cell_type": "code",
   "execution_count": 12,
   "metadata": {},
   "outputs": [
    {
     "data": {
      "text/html": [
       "<div>\n",
       "<style scoped>\n",
       "    .dataframe tbody tr th:only-of-type {\n",
       "        vertical-align: middle;\n",
       "    }\n",
       "\n",
       "    .dataframe tbody tr th {\n",
       "        vertical-align: top;\n",
       "    }\n",
       "\n",
       "    .dataframe thead th {\n",
       "        text-align: right;\n",
       "    }\n",
       "</style>\n",
       "<table border=\"1\" class=\"dataframe\">\n",
       "  <thead>\n",
       "    <tr style=\"text-align: right;\">\n",
       "      <th></th>\n",
       "      <th>customer_Id</th>\n",
       "      <th>DOB</th>\n",
       "      <th>Gender</th>\n",
       "      <th>city_code</th>\n",
       "      <th>transaction_id</th>\n",
       "      <th>tran_date</th>\n",
       "      <th>prod_subcat_code</th>\n",
       "      <th>prod_cat_code</th>\n",
       "      <th>Qty</th>\n",
       "      <th>Rate</th>\n",
       "      <th>Tax</th>\n",
       "      <th>total_amt</th>\n",
       "      <th>Store_type</th>\n",
       "      <th>prod_cat</th>\n",
       "      <th>prod_sub_cat_code</th>\n",
       "      <th>prod_subcat</th>\n",
       "    </tr>\n",
       "  </thead>\n",
       "  <tbody>\n",
       "    <tr>\n",
       "      <th>0</th>\n",
       "      <td>268408</td>\n",
       "      <td>02-01-1970</td>\n",
       "      <td>M</td>\n",
       "      <td>4.0</td>\n",
       "      <td>87243835584</td>\n",
       "      <td>13-01-2014</td>\n",
       "      <td>7</td>\n",
       "      <td>5</td>\n",
       "      <td>5</td>\n",
       "      <td>187</td>\n",
       "      <td>98.175</td>\n",
       "      <td>1033.175</td>\n",
       "      <td>TeleShop</td>\n",
       "      <td>Books</td>\n",
       "      <td>7</td>\n",
       "      <td>Fiction</td>\n",
       "    </tr>\n",
       "    <tr>\n",
       "      <th>1</th>\n",
       "      <td>275152</td>\n",
       "      <td>16-01-1970</td>\n",
       "      <td>M</td>\n",
       "      <td>4.0</td>\n",
       "      <td>73109425404</td>\n",
       "      <td>25-03-2011</td>\n",
       "      <td>7</td>\n",
       "      <td>5</td>\n",
       "      <td>2</td>\n",
       "      <td>464</td>\n",
       "      <td>97.440</td>\n",
       "      <td>1025.440</td>\n",
       "      <td>e-Shop</td>\n",
       "      <td>Books</td>\n",
       "      <td>7</td>\n",
       "      <td>Fiction</td>\n",
       "    </tr>\n",
       "    <tr>\n",
       "      <th>2</th>\n",
       "      <td>275034</td>\n",
       "      <td>18-01-1970</td>\n",
       "      <td>F</td>\n",
       "      <td>4.0</td>\n",
       "      <td>64777271023</td>\n",
       "      <td>23-05-2011</td>\n",
       "      <td>7</td>\n",
       "      <td>5</td>\n",
       "      <td>2</td>\n",
       "      <td>197</td>\n",
       "      <td>41.370</td>\n",
       "      <td>435.370</td>\n",
       "      <td>Flagship store</td>\n",
       "      <td>Books</td>\n",
       "      <td>7</td>\n",
       "      <td>Fiction</td>\n",
       "    </tr>\n",
       "    <tr>\n",
       "      <th>3</th>\n",
       "      <td>270829</td>\n",
       "      <td>22-01-1970</td>\n",
       "      <td>F</td>\n",
       "      <td>8.0</td>\n",
       "      <td>87174343938</td>\n",
       "      <td>9/12/2013</td>\n",
       "      <td>7</td>\n",
       "      <td>5</td>\n",
       "      <td>4</td>\n",
       "      <td>1141</td>\n",
       "      <td>479.220</td>\n",
       "      <td>5043.220</td>\n",
       "      <td>e-Shop</td>\n",
       "      <td>Books</td>\n",
       "      <td>7</td>\n",
       "      <td>Fiction</td>\n",
       "    </tr>\n",
       "    <tr>\n",
       "      <th>4</th>\n",
       "      <td>267657</td>\n",
       "      <td>29-01-1970</td>\n",
       "      <td>F</td>\n",
       "      <td>7.0</td>\n",
       "      <td>76242744953</td>\n",
       "      <td>23-05-2013</td>\n",
       "      <td>7</td>\n",
       "      <td>5</td>\n",
       "      <td>4</td>\n",
       "      <td>1020</td>\n",
       "      <td>428.400</td>\n",
       "      <td>4508.400</td>\n",
       "      <td>e-Shop</td>\n",
       "      <td>Books</td>\n",
       "      <td>7</td>\n",
       "      <td>Fiction</td>\n",
       "    </tr>\n",
       "    <tr>\n",
       "      <th>5</th>\n",
       "      <td>274630</td>\n",
       "      <td>01-02-1970</td>\n",
       "      <td>M</td>\n",
       "      <td>4.0</td>\n",
       "      <td>78357345891</td>\n",
       "      <td>11/4/2012</td>\n",
       "      <td>7</td>\n",
       "      <td>5</td>\n",
       "      <td>1</td>\n",
       "      <td>646</td>\n",
       "      <td>67.830</td>\n",
       "      <td>713.830</td>\n",
       "      <td>TeleShop</td>\n",
       "      <td>Books</td>\n",
       "      <td>7</td>\n",
       "      <td>Fiction</td>\n",
       "    </tr>\n",
       "    <tr>\n",
       "      <th>6</th>\n",
       "      <td>273541</td>\n",
       "      <td>01-02-1970</td>\n",
       "      <td>M</td>\n",
       "      <td>4.0</td>\n",
       "      <td>23916816961</td>\n",
       "      <td>9/2/2013</td>\n",
       "      <td>7</td>\n",
       "      <td>5</td>\n",
       "      <td>4</td>\n",
       "      <td>410</td>\n",
       "      <td>172.200</td>\n",
       "      <td>1812.200</td>\n",
       "      <td>e-Shop</td>\n",
       "      <td>Books</td>\n",
       "      <td>7</td>\n",
       "      <td>Fiction</td>\n",
       "    </tr>\n",
       "    <tr>\n",
       "      <th>7</th>\n",
       "      <td>269008</td>\n",
       "      <td>13-02-1970</td>\n",
       "      <td>F</td>\n",
       "      <td>6.0</td>\n",
       "      <td>35560569829</td>\n",
       "      <td>9/3/2013</td>\n",
       "      <td>7</td>\n",
       "      <td>5</td>\n",
       "      <td>1</td>\n",
       "      <td>1441</td>\n",
       "      <td>151.305</td>\n",
       "      <td>1592.305</td>\n",
       "      <td>e-Shop</td>\n",
       "      <td>Books</td>\n",
       "      <td>7</td>\n",
       "      <td>Fiction</td>\n",
       "    </tr>\n",
       "    <tr>\n",
       "      <th>8</th>\n",
       "      <td>269008</td>\n",
       "      <td>13-02-1970</td>\n",
       "      <td>F</td>\n",
       "      <td>6.0</td>\n",
       "      <td>94033312891</td>\n",
       "      <td>26-04-2012</td>\n",
       "      <td>7</td>\n",
       "      <td>5</td>\n",
       "      <td>5</td>\n",
       "      <td>746</td>\n",
       "      <td>391.650</td>\n",
       "      <td>4121.650</td>\n",
       "      <td>MBR</td>\n",
       "      <td>Books</td>\n",
       "      <td>7</td>\n",
       "      <td>Fiction</td>\n",
       "    </tr>\n",
       "    <tr>\n",
       "      <th>9</th>\n",
       "      <td>267199</td>\n",
       "      <td>14-02-1970</td>\n",
       "      <td>NaN</td>\n",
       "      <td>2.0</td>\n",
       "      <td>56749259881</td>\n",
       "      <td>11/1/2012</td>\n",
       "      <td>7</td>\n",
       "      <td>5</td>\n",
       "      <td>4</td>\n",
       "      <td>1049</td>\n",
       "      <td>440.580</td>\n",
       "      <td>4636.580</td>\n",
       "      <td>MBR</td>\n",
       "      <td>Books</td>\n",
       "      <td>7</td>\n",
       "      <td>Fiction</td>\n",
       "    </tr>\n",
       "  </tbody>\n",
       "</table>\n",
       "</div>"
      ],
      "text/plain": [
       "   customer_Id         DOB Gender  city_code  transaction_id   tran_date  \\\n",
       "0       268408  02-01-1970      M        4.0     87243835584  13-01-2014   \n",
       "1       275152  16-01-1970      M        4.0     73109425404  25-03-2011   \n",
       "2       275034  18-01-1970      F        4.0     64777271023  23-05-2011   \n",
       "3       270829  22-01-1970      F        8.0     87174343938   9/12/2013   \n",
       "4       267657  29-01-1970      F        7.0     76242744953  23-05-2013   \n",
       "5       274630  01-02-1970      M        4.0     78357345891   11/4/2012   \n",
       "6       273541  01-02-1970      M        4.0     23916816961    9/2/2013   \n",
       "7       269008  13-02-1970      F        6.0     35560569829    9/3/2013   \n",
       "8       269008  13-02-1970      F        6.0     94033312891  26-04-2012   \n",
       "9       267199  14-02-1970    NaN        2.0     56749259881   11/1/2012   \n",
       "\n",
       "   prod_subcat_code  prod_cat_code  Qty  Rate      Tax  total_amt  \\\n",
       "0                 7              5    5   187   98.175   1033.175   \n",
       "1                 7              5    2   464   97.440   1025.440   \n",
       "2                 7              5    2   197   41.370    435.370   \n",
       "3                 7              5    4  1141  479.220   5043.220   \n",
       "4                 7              5    4  1020  428.400   4508.400   \n",
       "5                 7              5    1   646   67.830    713.830   \n",
       "6                 7              5    4   410  172.200   1812.200   \n",
       "7                 7              5    1  1441  151.305   1592.305   \n",
       "8                 7              5    5   746  391.650   4121.650   \n",
       "9                 7              5    4  1049  440.580   4636.580   \n",
       "\n",
       "       Store_type prod_cat  prod_sub_cat_code prod_subcat  \n",
       "0        TeleShop    Books                  7     Fiction  \n",
       "1          e-Shop    Books                  7     Fiction  \n",
       "2  Flagship store    Books                  7     Fiction  \n",
       "3          e-Shop    Books                  7     Fiction  \n",
       "4          e-Shop    Books                  7     Fiction  \n",
       "5        TeleShop    Books                  7     Fiction  \n",
       "6          e-Shop    Books                  7     Fiction  \n",
       "7          e-Shop    Books                  7     Fiction  \n",
       "8             MBR    Books                  7     Fiction  \n",
       "9             MBR    Books                  7     Fiction  "
      ]
     },
     "execution_count": 12,
     "metadata": {},
     "output_type": "execute_result"
    }
   ],
   "source": [
    "customer_final.head(10)"
   ]
  },
  {
   "cell_type": "code",
   "execution_count": 13,
   "metadata": {},
   "outputs": [
    {
     "data": {
      "text/html": [
       "<div>\n",
       "<style scoped>\n",
       "    .dataframe tbody tr th:only-of-type {\n",
       "        vertical-align: middle;\n",
       "    }\n",
       "\n",
       "    .dataframe tbody tr th {\n",
       "        vertical-align: top;\n",
       "    }\n",
       "\n",
       "    .dataframe thead th {\n",
       "        text-align: right;\n",
       "    }\n",
       "</style>\n",
       "<table border=\"1\" class=\"dataframe\">\n",
       "  <thead>\n",
       "    <tr style=\"text-align: right;\">\n",
       "      <th></th>\n",
       "      <th>customer_Id</th>\n",
       "      <th>DOB</th>\n",
       "      <th>Gender</th>\n",
       "      <th>city_code</th>\n",
       "      <th>transaction_id</th>\n",
       "      <th>tran_date</th>\n",
       "      <th>prod_subcat_code</th>\n",
       "      <th>prod_cat_code</th>\n",
       "      <th>Qty</th>\n",
       "      <th>Rate</th>\n",
       "      <th>Tax</th>\n",
       "      <th>total_amt</th>\n",
       "      <th>Store_type</th>\n",
       "      <th>prod_cat</th>\n",
       "      <th>prod_sub_cat_code</th>\n",
       "      <th>prod_subcat</th>\n",
       "    </tr>\n",
       "  </thead>\n",
       "  <tbody>\n",
       "    <tr>\n",
       "      <th>23043</th>\n",
       "      <td>268914</td>\n",
       "      <td>15-11-1992</td>\n",
       "      <td>F</td>\n",
       "      <td>3.0</td>\n",
       "      <td>1407823655</td>\n",
       "      <td>10/6/2011</td>\n",
       "      <td>10</td>\n",
       "      <td>5</td>\n",
       "      <td>1</td>\n",
       "      <td>1252</td>\n",
       "      <td>131.460</td>\n",
       "      <td>1383.460</td>\n",
       "      <td>MBR</td>\n",
       "      <td>Books</td>\n",
       "      <td>10</td>\n",
       "      <td>Non-Fiction</td>\n",
       "    </tr>\n",
       "    <tr>\n",
       "      <th>23044</th>\n",
       "      <td>269519</td>\n",
       "      <td>17-11-1992</td>\n",
       "      <td>M</td>\n",
       "      <td>9.0</td>\n",
       "      <td>29719500605</td>\n",
       "      <td>24-12-2013</td>\n",
       "      <td>10</td>\n",
       "      <td>5</td>\n",
       "      <td>4</td>\n",
       "      <td>1036</td>\n",
       "      <td>435.120</td>\n",
       "      <td>4579.120</td>\n",
       "      <td>TeleShop</td>\n",
       "      <td>Books</td>\n",
       "      <td>10</td>\n",
       "      <td>Non-Fiction</td>\n",
       "    </tr>\n",
       "    <tr>\n",
       "      <th>23045</th>\n",
       "      <td>273524</td>\n",
       "      <td>25-11-1992</td>\n",
       "      <td>F</td>\n",
       "      <td>1.0</td>\n",
       "      <td>25762805863</td>\n",
       "      <td>19-11-2012</td>\n",
       "      <td>10</td>\n",
       "      <td>5</td>\n",
       "      <td>1</td>\n",
       "      <td>1401</td>\n",
       "      <td>147.105</td>\n",
       "      <td>1548.105</td>\n",
       "      <td>Flagship store</td>\n",
       "      <td>Books</td>\n",
       "      <td>10</td>\n",
       "      <td>Non-Fiction</td>\n",
       "    </tr>\n",
       "    <tr>\n",
       "      <th>23046</th>\n",
       "      <td>272141</td>\n",
       "      <td>02-12-1992</td>\n",
       "      <td>F</td>\n",
       "      <td>10.0</td>\n",
       "      <td>71337087467</td>\n",
       "      <td>22-07-2012</td>\n",
       "      <td>10</td>\n",
       "      <td>5</td>\n",
       "      <td>-3</td>\n",
       "      <td>-1422</td>\n",
       "      <td>447.930</td>\n",
       "      <td>-4713.930</td>\n",
       "      <td>e-Shop</td>\n",
       "      <td>Books</td>\n",
       "      <td>10</td>\n",
       "      <td>Non-Fiction</td>\n",
       "    </tr>\n",
       "    <tr>\n",
       "      <th>23047</th>\n",
       "      <td>272141</td>\n",
       "      <td>02-12-1992</td>\n",
       "      <td>F</td>\n",
       "      <td>10.0</td>\n",
       "      <td>71337087467</td>\n",
       "      <td>16-07-2012</td>\n",
       "      <td>10</td>\n",
       "      <td>5</td>\n",
       "      <td>3</td>\n",
       "      <td>1422</td>\n",
       "      <td>447.930</td>\n",
       "      <td>4713.930</td>\n",
       "      <td>e-Shop</td>\n",
       "      <td>Books</td>\n",
       "      <td>10</td>\n",
       "      <td>Non-Fiction</td>\n",
       "    </tr>\n",
       "    <tr>\n",
       "      <th>23048</th>\n",
       "      <td>267812</td>\n",
       "      <td>04-12-1992</td>\n",
       "      <td>F</td>\n",
       "      <td>1.0</td>\n",
       "      <td>63540378797</td>\n",
       "      <td>10/10/2012</td>\n",
       "      <td>10</td>\n",
       "      <td>5</td>\n",
       "      <td>3</td>\n",
       "      <td>224</td>\n",
       "      <td>70.560</td>\n",
       "      <td>742.560</td>\n",
       "      <td>TeleShop</td>\n",
       "      <td>Books</td>\n",
       "      <td>10</td>\n",
       "      <td>Non-Fiction</td>\n",
       "    </tr>\n",
       "    <tr>\n",
       "      <th>23049</th>\n",
       "      <td>274618</td>\n",
       "      <td>09-12-1992</td>\n",
       "      <td>F</td>\n",
       "      <td>7.0</td>\n",
       "      <td>71793203305</td>\n",
       "      <td>17-08-2013</td>\n",
       "      <td>10</td>\n",
       "      <td>5</td>\n",
       "      <td>4</td>\n",
       "      <td>691</td>\n",
       "      <td>290.220</td>\n",
       "      <td>3054.220</td>\n",
       "      <td>Flagship store</td>\n",
       "      <td>Books</td>\n",
       "      <td>10</td>\n",
       "      <td>Non-Fiction</td>\n",
       "    </tr>\n",
       "    <tr>\n",
       "      <th>23050</th>\n",
       "      <td>268097</td>\n",
       "      <td>15-12-1992</td>\n",
       "      <td>F</td>\n",
       "      <td>7.0</td>\n",
       "      <td>91217108818</td>\n",
       "      <td>1/2/2012</td>\n",
       "      <td>10</td>\n",
       "      <td>5</td>\n",
       "      <td>2</td>\n",
       "      <td>411</td>\n",
       "      <td>86.310</td>\n",
       "      <td>908.310</td>\n",
       "      <td>e-Shop</td>\n",
       "      <td>Books</td>\n",
       "      <td>10</td>\n",
       "      <td>Non-Fiction</td>\n",
       "    </tr>\n",
       "    <tr>\n",
       "      <th>23051</th>\n",
       "      <td>268097</td>\n",
       "      <td>15-12-1992</td>\n",
       "      <td>F</td>\n",
       "      <td>7.0</td>\n",
       "      <td>90114483354</td>\n",
       "      <td>31-01-2011</td>\n",
       "      <td>10</td>\n",
       "      <td>5</td>\n",
       "      <td>-4</td>\n",
       "      <td>-1408</td>\n",
       "      <td>591.360</td>\n",
       "      <td>-6223.360</td>\n",
       "      <td>e-Shop</td>\n",
       "      <td>Books</td>\n",
       "      <td>10</td>\n",
       "      <td>Non-Fiction</td>\n",
       "    </tr>\n",
       "    <tr>\n",
       "      <th>23052</th>\n",
       "      <td>268097</td>\n",
       "      <td>15-12-1992</td>\n",
       "      <td>F</td>\n",
       "      <td>7.0</td>\n",
       "      <td>90114483354</td>\n",
       "      <td>26-01-2011</td>\n",
       "      <td>10</td>\n",
       "      <td>5</td>\n",
       "      <td>4</td>\n",
       "      <td>1408</td>\n",
       "      <td>591.360</td>\n",
       "      <td>6223.360</td>\n",
       "      <td>e-Shop</td>\n",
       "      <td>Books</td>\n",
       "      <td>10</td>\n",
       "      <td>Non-Fiction</td>\n",
       "    </tr>\n",
       "  </tbody>\n",
       "</table>\n",
       "</div>"
      ],
      "text/plain": [
       "       customer_Id         DOB Gender  city_code  transaction_id   tran_date  \\\n",
       "23043       268914  15-11-1992      F        3.0      1407823655   10/6/2011   \n",
       "23044       269519  17-11-1992      M        9.0     29719500605  24-12-2013   \n",
       "23045       273524  25-11-1992      F        1.0     25762805863  19-11-2012   \n",
       "23046       272141  02-12-1992      F       10.0     71337087467  22-07-2012   \n",
       "23047       272141  02-12-1992      F       10.0     71337087467  16-07-2012   \n",
       "23048       267812  04-12-1992      F        1.0     63540378797  10/10/2012   \n",
       "23049       274618  09-12-1992      F        7.0     71793203305  17-08-2013   \n",
       "23050       268097  15-12-1992      F        7.0     91217108818    1/2/2012   \n",
       "23051       268097  15-12-1992      F        7.0     90114483354  31-01-2011   \n",
       "23052       268097  15-12-1992      F        7.0     90114483354  26-01-2011   \n",
       "\n",
       "       prod_subcat_code  prod_cat_code  Qty  Rate      Tax  total_amt  \\\n",
       "23043                10              5    1  1252  131.460   1383.460   \n",
       "23044                10              5    4  1036  435.120   4579.120   \n",
       "23045                10              5    1  1401  147.105   1548.105   \n",
       "23046                10              5   -3 -1422  447.930  -4713.930   \n",
       "23047                10              5    3  1422  447.930   4713.930   \n",
       "23048                10              5    3   224   70.560    742.560   \n",
       "23049                10              5    4   691  290.220   3054.220   \n",
       "23050                10              5    2   411   86.310    908.310   \n",
       "23051                10              5   -4 -1408  591.360  -6223.360   \n",
       "23052                10              5    4  1408  591.360   6223.360   \n",
       "\n",
       "           Store_type prod_cat  prod_sub_cat_code  prod_subcat  \n",
       "23043             MBR    Books                 10  Non-Fiction  \n",
       "23044        TeleShop    Books                 10  Non-Fiction  \n",
       "23045  Flagship store    Books                 10  Non-Fiction  \n",
       "23046          e-Shop    Books                 10  Non-Fiction  \n",
       "23047          e-Shop    Books                 10  Non-Fiction  \n",
       "23048        TeleShop    Books                 10  Non-Fiction  \n",
       "23049  Flagship store    Books                 10  Non-Fiction  \n",
       "23050          e-Shop    Books                 10  Non-Fiction  \n",
       "23051          e-Shop    Books                 10  Non-Fiction  \n",
       "23052          e-Shop    Books                 10  Non-Fiction  "
      ]
     },
     "execution_count": 13,
     "metadata": {},
     "output_type": "execute_result"
    }
   ],
   "source": [
    "customer_final.tail(10)"
   ]
  },
  {
   "cell_type": "markdown",
   "metadata": {},
   "source": [
    "#### c. “Five-number summary” for continuous variables (min, Q1, median, Q3 and max)"
   ]
  },
  {
   "cell_type": "code",
   "execution_count": 14,
   "metadata": {},
   "outputs": [],
   "source": [
    "def fn_cont_var(x):\n",
    "    return pd.Series([x.min(), x.quantile(0.25), x.quantile(0.50), x.quantile(0.75), x.max()],\n",
    "                    index = [\"Min\", \"Q1\", \"Median\",\"Q3\", \"Max\"])"
   ]
  },
  {
   "cell_type": "code",
   "execution_count": 15,
   "metadata": {},
   "outputs": [
    {
     "data": {
      "text/html": [
       "<div>\n",
       "<style scoped>\n",
       "    .dataframe tbody tr th:only-of-type {\n",
       "        vertical-align: middle;\n",
       "    }\n",
       "\n",
       "    .dataframe tbody tr th {\n",
       "        vertical-align: top;\n",
       "    }\n",
       "\n",
       "    .dataframe thead th {\n",
       "        text-align: right;\n",
       "    }\n",
       "</style>\n",
       "<table border=\"1\" class=\"dataframe\">\n",
       "  <thead>\n",
       "    <tr style=\"text-align: right;\">\n",
       "      <th></th>\n",
       "      <th>Min</th>\n",
       "      <th>Q1</th>\n",
       "      <th>Median</th>\n",
       "      <th>Q3</th>\n",
       "      <th>Max</th>\n",
       "    </tr>\n",
       "  </thead>\n",
       "  <tbody>\n",
       "    <tr>\n",
       "      <th>customer_Id</th>\n",
       "      <td>266783.000</td>\n",
       "      <td>2.689350e+05</td>\n",
       "      <td>2.709800e+05</td>\n",
       "      <td>2.731140e+05</td>\n",
       "      <td>2.752650e+05</td>\n",
       "    </tr>\n",
       "    <tr>\n",
       "      <th>city_code</th>\n",
       "      <td>1.000</td>\n",
       "      <td>3.000000e+00</td>\n",
       "      <td>5.000000e+00</td>\n",
       "      <td>8.000000e+00</td>\n",
       "      <td>1.000000e+01</td>\n",
       "    </tr>\n",
       "    <tr>\n",
       "      <th>transaction_id</th>\n",
       "      <td>3268991.000</td>\n",
       "      <td>2.493864e+10</td>\n",
       "      <td>5.009313e+10</td>\n",
       "      <td>7.533000e+10</td>\n",
       "      <td>9.998755e+10</td>\n",
       "    </tr>\n",
       "    <tr>\n",
       "      <th>prod_subcat_code</th>\n",
       "      <td>1.000</td>\n",
       "      <td>3.000000e+00</td>\n",
       "      <td>5.000000e+00</td>\n",
       "      <td>1.000000e+01</td>\n",
       "      <td>1.200000e+01</td>\n",
       "    </tr>\n",
       "    <tr>\n",
       "      <th>prod_cat_code</th>\n",
       "      <td>1.000</td>\n",
       "      <td>2.000000e+00</td>\n",
       "      <td>4.000000e+00</td>\n",
       "      <td>5.000000e+00</td>\n",
       "      <td>6.000000e+00</td>\n",
       "    </tr>\n",
       "    <tr>\n",
       "      <th>Qty</th>\n",
       "      <td>-5.000</td>\n",
       "      <td>1.000000e+00</td>\n",
       "      <td>3.000000e+00</td>\n",
       "      <td>4.000000e+00</td>\n",
       "      <td>5.000000e+00</td>\n",
       "    </tr>\n",
       "    <tr>\n",
       "      <th>Rate</th>\n",
       "      <td>-1499.000</td>\n",
       "      <td>3.120000e+02</td>\n",
       "      <td>7.100000e+02</td>\n",
       "      <td>1.109000e+03</td>\n",
       "      <td>1.500000e+03</td>\n",
       "    </tr>\n",
       "    <tr>\n",
       "      <th>Tax</th>\n",
       "      <td>7.350</td>\n",
       "      <td>9.828000e+01</td>\n",
       "      <td>1.990800e+02</td>\n",
       "      <td>3.657150e+02</td>\n",
       "      <td>7.875000e+02</td>\n",
       "    </tr>\n",
       "    <tr>\n",
       "      <th>total_amt</th>\n",
       "      <td>-8270.925</td>\n",
       "      <td>7.624500e+02</td>\n",
       "      <td>1.754740e+03</td>\n",
       "      <td>3.569150e+03</td>\n",
       "      <td>8.287500e+03</td>\n",
       "    </tr>\n",
       "    <tr>\n",
       "      <th>prod_sub_cat_code</th>\n",
       "      <td>1.000</td>\n",
       "      <td>3.000000e+00</td>\n",
       "      <td>5.000000e+00</td>\n",
       "      <td>1.000000e+01</td>\n",
       "      <td>1.200000e+01</td>\n",
       "    </tr>\n",
       "  </tbody>\n",
       "</table>\n",
       "</div>"
      ],
      "text/plain": [
       "                           Min            Q1        Median            Q3  \\\n",
       "customer_Id         266783.000  2.689350e+05  2.709800e+05  2.731140e+05   \n",
       "city_code                1.000  3.000000e+00  5.000000e+00  8.000000e+00   \n",
       "transaction_id     3268991.000  2.493864e+10  5.009313e+10  7.533000e+10   \n",
       "prod_subcat_code         1.000  3.000000e+00  5.000000e+00  1.000000e+01   \n",
       "prod_cat_code            1.000  2.000000e+00  4.000000e+00  5.000000e+00   \n",
       "Qty                     -5.000  1.000000e+00  3.000000e+00  4.000000e+00   \n",
       "Rate                 -1499.000  3.120000e+02  7.100000e+02  1.109000e+03   \n",
       "Tax                      7.350  9.828000e+01  1.990800e+02  3.657150e+02   \n",
       "total_amt            -8270.925  7.624500e+02  1.754740e+03  3.569150e+03   \n",
       "prod_sub_cat_code        1.000  3.000000e+00  5.000000e+00  1.000000e+01   \n",
       "\n",
       "                            Max  \n",
       "customer_Id        2.752650e+05  \n",
       "city_code          1.000000e+01  \n",
       "transaction_id     9.998755e+10  \n",
       "prod_subcat_code   1.200000e+01  \n",
       "prod_cat_code      6.000000e+00  \n",
       "Qty                5.000000e+00  \n",
       "Rate               1.500000e+03  \n",
       "Tax                7.875000e+02  \n",
       "total_amt          8.287500e+03  \n",
       "prod_sub_cat_code  1.200000e+01  "
      ]
     },
     "execution_count": 15,
     "metadata": {},
     "output_type": "execute_result"
    }
   ],
   "source": [
    "customer_final.select_dtypes([\"int64\", \"float64\"]).apply(fn_cont_var).T"
   ]
  },
  {
   "cell_type": "markdown",
   "metadata": {},
   "source": [
    "#### d. Frequency tables for all the categorical variables"
   ]
  },
  {
   "cell_type": "code",
   "execution_count": 16,
   "metadata": {},
   "outputs": [
    {
     "data": {
      "text/html": [
       "<div>\n",
       "<style scoped>\n",
       "    .dataframe tbody tr th:only-of-type {\n",
       "        vertical-align: middle;\n",
       "    }\n",
       "\n",
       "    .dataframe tbody tr th {\n",
       "        vertical-align: top;\n",
       "    }\n",
       "\n",
       "    .dataframe thead th {\n",
       "        text-align: right;\n",
       "    }\n",
       "</style>\n",
       "<table border=\"1\" class=\"dataframe\">\n",
       "  <thead>\n",
       "    <tr style=\"text-align: right;\">\n",
       "      <th></th>\n",
       "      <th>DOB</th>\n",
       "      <th>Gender</th>\n",
       "      <th>tran_date</th>\n",
       "      <th>Store_type</th>\n",
       "      <th>prod_cat</th>\n",
       "      <th>prod_subcat</th>\n",
       "    </tr>\n",
       "  </thead>\n",
       "  <tbody>\n",
       "    <tr>\n",
       "      <th>count</th>\n",
       "      <td>23053</td>\n",
       "      <td>23044</td>\n",
       "      <td>23053</td>\n",
       "      <td>23053</td>\n",
       "      <td>23053</td>\n",
       "      <td>23053</td>\n",
       "    </tr>\n",
       "    <tr>\n",
       "      <th>unique</th>\n",
       "      <td>3987</td>\n",
       "      <td>2</td>\n",
       "      <td>1129</td>\n",
       "      <td>4</td>\n",
       "      <td>6</td>\n",
       "      <td>18</td>\n",
       "    </tr>\n",
       "    <tr>\n",
       "      <th>top</th>\n",
       "      <td>27-12-1988</td>\n",
       "      <td>M</td>\n",
       "      <td>13-07-2011</td>\n",
       "      <td>e-Shop</td>\n",
       "      <td>Books</td>\n",
       "      <td>Women</td>\n",
       "    </tr>\n",
       "    <tr>\n",
       "      <th>freq</th>\n",
       "      <td>32</td>\n",
       "      <td>11811</td>\n",
       "      <td>35</td>\n",
       "      <td>9311</td>\n",
       "      <td>6069</td>\n",
       "      <td>3048</td>\n",
       "    </tr>\n",
       "  </tbody>\n",
       "</table>\n",
       "</div>"
      ],
      "text/plain": [
       "               DOB Gender   tran_date Store_type prod_cat prod_subcat\n",
       "count        23053  23044       23053      23053    23053       23053\n",
       "unique        3987      2        1129          4        6          18\n",
       "top     27-12-1988      M  13-07-2011     e-Shop    Books       Women\n",
       "freq            32  11811          35       9311     6069        3048"
      ]
     },
     "execution_count": 16,
     "metadata": {},
     "output_type": "execute_result"
    }
   ],
   "source": [
    "customer_final.select_dtypes(\"object\").describe()"
   ]
  },
  {
   "cell_type": "markdown",
   "metadata": {},
   "source": [
    "### 3. Generate histograms for all continuous variables and frequency bars for categorical variables"
   ]
  },
  {
   "cell_type": "code",
   "execution_count": 17,
   "metadata": {},
   "outputs": [],
   "source": [
    "def distplot(x):\n",
    "    plt.figure(figsize = (5,3))\n",
    "    sns.distplot(x.dropna())\n",
    "    plt.show()"
   ]
  },
  {
   "cell_type": "code",
   "execution_count": 18,
   "metadata": {},
   "outputs": [
    {
     "data": {
      "image/png": "[encoded data removed]",
      "text/plain": [
       "<Figure size 360x216 with 1 Axes>"
      ]
     },
     "metadata": {
      "needs_background": "light"
     },
     "output_type": "display_data"
    },
    {
     "data": {
      "image/png": "[encoded data removed]",
      "text/plain": [
       "<Figure size 360x216 with 1 Axes>"
      ]
     },
     "metadata": {
      "needs_background": "light"
     },
     "output_type": "display_data"
    },
    {
     "data": {
      "image/png": "[encoded data removed]",
      "text/plain": [
       "<Figure size 360x216 with 1 Axes>"
      ]
     },
     "metadata": {
      "needs_background": "light"
     },
     "output_type": "display_data"
    },
    {
     "data": {
      "image/png": "[encoded data removed]",
      "text/plain": [
       "<Figure size 360x216 with 1 Axes>"
      ]
     },
     "metadata": {
      "needs_background": "light"
     },
     "output_type": "display_data"
    },
    {
     "data": {
      "image/png": "[encoded data removed]",
      "text/plain": [
       "<Figure size 360x216 with 1 Axes>"
      ]
     },
     "metadata": {
      "needs_background": "light"
     },
     "output_type": "display_data"
    },
    {
     "data": {
      "image/png": "[encoded data removed]",
      "text/plain": [
       "<Figure size 360x216 with 1 Axes>"
      ]
     },
     "metadata": {
      "needs_background": "light"
     },
     "output_type": "display_data"
    },
    {
     "data": {
      "image/png": "[encoded data removed]",
      "text/plain": [
       "<Figure size 360x216 with 1 Axes>"
      ]
     },
     "metadata": {
      "needs_background": "light"
     },
     "output_type": "display_data"
    },
    {
     "data": {
      "image/png": "[encoded data removed]",
      "text/plain": [
       "<Figure size 360x216 with 1 Axes>"
      ]
     },
     "metadata": {
      "needs_background": "light"
     },
     "output_type": "display_data"
    },
    {
     "data": {
      "image/png": "[encoded data removed]",
      "text/plain": [
       "<Figure size 360x216 with 1 Axes>"
      ]
     },
     "metadata": {
      "needs_background": "light"
     },
     "output_type": "display_data"
    },
    {
     "data": {
      "image/png": "[encoded data removed]",
      "text/plain": [
       "<Figure size 360x216 with 1 Axes>"
      ]
     },
     "metadata": {
      "needs_background": "light"
     },
     "output_type": "display_data"
    },
    {
     "data": {
      "text/plain": [
       "customer_Id          None\n",
       "city_code            None\n",
       "transaction_id       None\n",
       "prod_subcat_code     None\n",
       "prod_cat_code        None\n",
       "Qty                  None\n",
       "Rate                 None\n",
       "Tax                  None\n",
       "total_amt            None\n",
       "prod_sub_cat_code    None\n",
       "dtype: object"
      ]
     },
     "execution_count": 18,
     "metadata": {},
     "output_type": "execute_result"
    }
   ],
   "source": [
    "customer_final.select_dtypes([\"int64\", \"float64\"]).apply(distplot)"
   ]
  },
  {
   "cell_type": "code",
   "execution_count": 19,
   "metadata": {},
   "outputs": [],
   "source": [
    "def countplot(x):\n",
    "    plt.figure(figsize = (5,3))\n",
    "    sns.countplot(x.dropna())\n",
    "    plt.show()"
   ]
  },
  {
   "cell_type": "code",
   "execution_count": 20,
   "metadata": {},
   "outputs": [
    {
     "data": {
      "image/png": "[encoded data removed]",
      "text/plain": [
       "<Figure size 360x216 with 1 Axes>"
      ]
     },
     "metadata": {
      "needs_background": "light"
     },
     "output_type": "display_data"
    },
    {
     "data": {
      "image/png": "[encoded data removed]",
      "text/plain": [
       "<Figure size 360x216 with 1 Axes>"
      ]
     },
     "metadata": {
      "needs_background": "light"
     },
     "output_type": "display_data"
    },
    {
     "data": {
      "image/png": "[encoded data removed]",
      "text/plain": [
       "<Figure size 360x216 with 1 Axes>"
      ]
     },
     "metadata": {
      "needs_background": "light"
     },
     "output_type": "display_data"
    },
    {
     "data": {
      "image/png": "[encoded data removed]",
      "text/plain": [
       "<Figure size 360x216 with 1 Axes>"
      ]
     },
     "metadata": {
      "needs_background": "light"
     },
     "output_type": "display_data"
    },
    {
     "data": {
      "image/png": "[encoded data removed]",
      "text/plain": [
       "<Figure size 360x216 with 1 Axes>"
      ]
     },
     "metadata": {
      "needs_background": "light"
     },
     "output_type": "display_data"
    },
    {
     "data": {
      "image/png": "[encoded data removed]",
      "text/plain": [
       "<Figure size 360x216 with 1 Axes>"
      ]
     },
     "metadata": {
      "needs_background": "light"
     },
     "output_type": "display_data"
    },
    {
     "data": {
      "text/plain": [
       "DOB            None\n",
       "Gender         None\n",
       "tran_date      None\n",
       "Store_type     None\n",
       "prod_cat       None\n",
       "prod_subcat    None\n",
       "dtype: object"
      ]
     },
     "execution_count": 20,
     "metadata": {},
     "output_type": "execute_result"
    }
   ],
   "source": [
    "customer_final.select_dtypes(\"object\").apply(countplot)"
   ]
  },
  {
   "cell_type": "markdown",
   "metadata": {},
   "source": [
    "### 4. Calculate the following information using the merged dataset :   \n",
    "#### a. Time period of the available transaction data"
   ]
  },
  {
   "cell_type": "code",
   "execution_count": 21,
   "metadata": {},
   "outputs": [
    {
     "name": "stderr",
     "output_type": "stream",
     "text": [
      "C:\\Users\\jiyaj\\Anaconda3\\lib\\site-packages\\ipykernel_launcher.py:1: SettingWithCopyWarning: \n",
      "A value is trying to be set on a copy of a slice from a DataFrame.\n",
      "Try using .loc[row_indexer,col_indexer] = value instead\n",
      "\n",
      "See the caveats in the documentation: http://pandas.pydata.org/pandas-docs/stable/indexing.html#indexing-view-versus-copy\n",
      "  \"\"\"Entry point for launching an IPython kernel.\n"
     ]
    }
   ],
   "source": [
    "customer_final[\"tran_date\"] = customer_final[\"tran_date\"].apply(pd.to_datetime, dayfirst = True)"
   ]
  },
  {
   "cell_type": "code",
   "execution_count": 22,
   "metadata": {},
   "outputs": [
    {
     "data": {
      "text/plain": [
       "1130"
      ]
     },
     "execution_count": 22,
     "metadata": {},
     "output_type": "execute_result"
    }
   ],
   "source": [
    "(customer_final.tran_date.max() - customer_final.tran_date.min()).days"
   ]
  },
  {
   "cell_type": "markdown",
   "metadata": {},
   "source": [
    "#### b. Count of transactions where the total amount of transaction was negative"
   ]
  },
  {
   "cell_type": "code",
   "execution_count": 23,
   "metadata": {},
   "outputs": [
    {
     "data": {
      "text/plain": [
       "2177"
      ]
     },
     "execution_count": 23,
     "metadata": {},
     "output_type": "execute_result"
    }
   ],
   "source": [
    "customer_final.total_amt[customer_final[\"total_amt\"] < 0].count()"
   ]
  },
  {
   "cell_type": "markdown",
   "metadata": {},
   "source": [
    "### 5. Analyze which product categories are more popular among females vs male customers."
   ]
  },
  {
   "cell_type": "code",
   "execution_count": 24,
   "metadata": {},
   "outputs": [
    {
     "data": {
      "text/plain": [
       "prod_cat\n",
       "Books    2949\n",
       "Name: prod_cat, dtype: int64"
      ]
     },
     "execution_count": 24,
     "metadata": {},
     "output_type": "execute_result"
    }
   ],
   "source": [
    "product_category_popular_female = customer_final.loc[customer_final.Gender == \"F\"].groupby(\"prod_cat\")[\"prod_cat\"].count()\n",
    "product_category_popular_female = product_category_popular_female.loc[(product_category_popular_female == product_category_popular_female.max())]\n",
    "product_category_popular_female"
   ]
  },
  {
   "cell_type": "code",
   "execution_count": 25,
   "metadata": {},
   "outputs": [
    {
     "data": {
      "text/plain": [
       "prod_cat\n",
       "Books    3116\n",
       "Name: prod_cat, dtype: int64"
      ]
     },
     "execution_count": 25,
     "metadata": {},
     "output_type": "execute_result"
    }
   ],
   "source": [
    "product_category_popular_male = customer_final.loc[customer_final.Gender == \"M\"].groupby(\"prod_cat\")[\"prod_cat\"].count()\n",
    "product_category_popular_male = product_category_popular_male[product_category_popular_male == product_category_popular_male.max()]\n",
    "product_category_popular_male"
   ]
  },
  {
   "cell_type": "markdown",
   "metadata": {},
   "source": [
    "### 6. Which City code has the maximum customers and what was the percentage of customers from that city"
   ]
  },
  {
   "cell_type": "code",
   "execution_count": 26,
   "metadata": {},
   "outputs": [],
   "source": [
    "city_max_customer = customer_final.groupby(\"city_code\")[\"city_code\"].count()\n",
    "city_max_customer_max = city_max_customer.loc[city_max_customer == city_max_customer.max()]\n",
    "city_max_customer_sum = city_max_customer.sum()\n",
    "\n",
    "percentage_customer = (city_max_customer_max/city_max_customer_sum) * 100"
   ]
  },
  {
   "cell_type": "code",
   "execution_count": 27,
   "metadata": {},
   "outputs": [
    {
     "data": {
      "text/plain": [
       "city_code\n",
       "4.0    10.509872\n",
       "Name: city_code, dtype: float64"
      ]
     },
     "execution_count": 27,
     "metadata": {},
     "output_type": "execute_result"
    }
   ],
   "source": [
    "percentage_customer"
   ]
  },
  {
   "cell_type": "markdown",
   "metadata": {},
   "source": [
    "### 7. Which store type sells the maximum products by value and by quantity?"
   ]
  },
  {
   "cell_type": "code",
   "execution_count": 28,
   "metadata": {},
   "outputs": [
    {
     "data": {
      "text/plain": [
       "Store_type\n",
       "e-Shop    19824816.05\n",
       "Name: total_amt, dtype: float64"
      ]
     },
     "execution_count": 28,
     "metadata": {},
     "output_type": "execute_result"
    }
   ],
   "source": [
    "store_type_max_value = customer_final.groupby(\"Store_type\")[\"total_amt\"].sum()\n",
    "store_type_max_value = store_type_max_value.loc[store_type_max_value == store_type_max_value.max()]\n",
    "store_type_max_value    #By Value"
   ]
  },
  {
   "cell_type": "code",
   "execution_count": 29,
   "metadata": {},
   "outputs": [
    {
     "data": {
      "text/plain": [
       "Store_type\n",
       "e-Shop    22763\n",
       "Name: Qty, dtype: int64"
      ]
     },
     "execution_count": 29,
     "metadata": {},
     "output_type": "execute_result"
    }
   ],
   "source": [
    "store_type_max_quantity = customer_final.groupby(\"Store_type\")[\"Qty\"].sum()\n",
    "store_type_max_quantity = store_type_max_quantity.loc[store_type_max_quantity == store_type_max_quantity.max()]\n",
    "store_type_max_quantity  #By Quantity"
   ]
  },
  {
   "cell_type": "markdown",
   "metadata": {},
   "source": [
    "### 8. What was the total amount earned from the \"Electronics\" and \"Clothing\" categories from Flagship Stores?"
   ]
  },
  {
   "cell_type": "code",
   "execution_count": 30,
   "metadata": {},
   "outputs": [],
   "source": [
    "total_amount = customer_final.loc[(customer_final[\"Store_type\"] == \"Flagship store\") & ((customer_final[\"prod_cat\"] == \"Electronics\") | (customer_final[\"prod_cat\"] == \"Clothing\"))]"
   ]
  },
  {
   "cell_type": "code",
   "execution_count": 31,
   "metadata": {},
   "outputs": [
    {
     "data": {
      "text/plain": [
       "3409559.27"
      ]
     },
     "execution_count": 31,
     "metadata": {},
     "output_type": "execute_result"
    }
   ],
   "source": [
    "total_amount.total_amt.sum()"
   ]
  },
  {
   "cell_type": "markdown",
   "metadata": {},
   "source": [
    "### 9. What was the total amount earned from \"Male\" customers under the \"Electronics\" category?"
   ]
  },
  {
   "cell_type": "code",
   "execution_count": 32,
   "metadata": {},
   "outputs": [],
   "source": [
    "total_amount_male_customer = customer_final.loc[(customer_final[\"Gender\"] == \"M\") & (customer_final[\"prod_cat\"] == \"Electronics\")]"
   ]
  },
  {
   "cell_type": "code",
   "execution_count": 33,
   "metadata": {},
   "outputs": [
    {
     "data": {
      "text/plain": [
       "5703109.425"
      ]
     },
     "execution_count": 33,
     "metadata": {},
     "output_type": "execute_result"
    }
   ],
   "source": [
    "total_amount_male_customer.total_amt.sum()"
   ]
  },
  {
   "cell_type": "markdown",
   "metadata": {},
   "source": [
    "### 10. How many customers have more than 10 unique transactions, after removing all transactions which have any negative amounts"
   ]
  },
  {
   "cell_type": "code",
   "execution_count": 34,
   "metadata": {},
   "outputs": [],
   "source": [
    "unique_ten_transaction = customer_final.loc[customer_final[\"total_amt\"] > 0]"
   ]
  },
  {
   "cell_type": "code",
   "execution_count": 35,
   "metadata": {},
   "outputs": [],
   "source": [
    "unique_ten_transaction = customer_final.groupby(\"customer_Id\")[\"transaction_id\"].nunique()"
   ]
  },
  {
   "cell_type": "code",
   "execution_count": 36,
   "metadata": {},
   "outputs": [],
   "source": [
    "unique_ten_transaction = unique_ten_transaction.loc[(unique_ten_transaction > 10)].count()"
   ]
  },
  {
   "cell_type": "code",
   "execution_count": 37,
   "metadata": {},
   "outputs": [
    {
     "data": {
      "text/plain": [
       "6"
      ]
     },
     "execution_count": 37,
     "metadata": {},
     "output_type": "execute_result"
    }
   ],
   "source": [
    "unique_ten_transaction"
   ]
  },
  {
   "cell_type": "markdown",
   "metadata": {},
   "source": [
    "### 11. For all customers aged between 25 - 35, find out:   \n",
    "#### a. What was the total amount spent for “Electronics” and “Books” product categories"
   ]
  },
  {
   "cell_type": "code",
   "execution_count": 38,
   "metadata": {},
   "outputs": [],
   "source": [
    "from datetime import datetime\n",
    "from dateutil.relativedelta import relativedelta"
   ]
  },
  {
   "cell_type": "code",
   "execution_count": 39,
   "metadata": {},
   "outputs": [],
   "source": [
    "customer_final_age=customer_final.copy()\n",
    "\n",
    "date_formats = ['%d/%m/%Y', '%d-%m-%Y']\n",
    "\n",
    "converted_DOBs=[]\n",
    "now = pd.Timestamp(datetime.now())\n",
    "for date in customer_final_age.DOB:\n",
    "    for date_format in date_formats:\n",
    "        try:\n",
    "            converted_date=pd.to_datetime(date,format=date_format)\n",
    "            age = relativedelta(now, converted_date).years\n",
    "            converted_DOBs.append(age)\n",
    "        except ValueError:\n",
    "            pass\n",
    "        \n",
    "customer_final_age[\"age\"]=pd.Series(pd.to_numeric(converted_DOBs))\n",
    "\n",
    "customer_final_age=customer_final_age.loc[(((customer_final_age[\"age\"]>=25) & (customer_final_age[\"age\"]<=35)) & ((customer_final_age[\"prod_cat\"]==\"Electronics\") | (customer_final_age[\"prod_cat\"]==\"Books\"))) ,]"
   ]
  },
  {
   "cell_type": "code",
   "execution_count": 40,
   "metadata": {},
   "outputs": [
    {
     "data": {
      "text/plain": [
       "9315653.879999999"
      ]
     },
     "execution_count": 40,
     "metadata": {},
     "output_type": "execute_result"
    }
   ],
   "source": [
    "customer_final_age.total_amt.sum()"
   ]
  },
  {
   "cell_type": "markdown",
   "metadata": {},
   "source": [
    "#### b. What was the total amount spent by these customers between 1st Jan, 2014 to 1st Mar, 2014?"
   ]
  },
  {
   "cell_type": "code",
   "execution_count": 41,
   "metadata": {},
   "outputs": [],
   "source": [
    "total_spent_btw_dates=customer_final_age.copy()\n",
    "\n",
    "date_formats = ['%d/%m/%Y', '%d-%m-%Y']\n",
    "\n",
    "converted_transaction_dates=[]\n",
    "\n",
    "for date in total_spent_btw_dates.tran_date:\n",
    "    for date_format in date_formats:\n",
    "        try:\n",
    "            converted_date=pd.to_datetime(date,format=date_format)\n",
    "            converted_transaction_dates.append(converted_date)\n",
    "        except ValueError:\n",
    "            pass\n",
    "        "
   ]
  },
  {
   "cell_type": "code",
   "execution_count": 42,
   "metadata": {},
   "outputs": [],
   "source": [
    "total_spent_btw_dates[\"converted_transaction_dates\"] = pd.Series(converted_transaction_dates)"
   ]
  },
  {
   "cell_type": "code",
   "execution_count": 43,
   "metadata": {},
   "outputs": [
    {
     "data": {
      "text/plain": [
       "154166.28500000003"
      ]
     },
     "execution_count": 43,
     "metadata": {},
     "output_type": "execute_result"
    }
   ],
   "source": [
    "start_date=pd.to_datetime(\"01 Jan,2014\",format=\"%d %b,%Y\")\n",
    "end_date=pd.to_datetime(\"01 Mar,2014\",format=\"%d %b,%Y\")\n",
    "total_spent_btw_dates=total_spent_btw_dates.loc[((total_spent_btw_dates.converted_transaction_dates>=start_date) & (total_spent_btw_dates.converted_transaction_dates<=end_date)),]\n",
    "total_spent_btw_dates.total_amt.sum()"
   ]
  },
  {
   "cell_type": "code",
   "execution_count": null,
   "metadata": {},
   "outputs": [],
   "source": []
  }
 ],
 "metadata": {
  "kernelspec": {
   "display_name": "Python 3",
   "language": "python",
   "name": "python3"
  },
  "language_info": {
   "codemirror_mode": {
    "name": "ipython",
    "version": 3
   },
   "file_extension": ".py",
   "mimetype": "text/x-python",
   "name": "python",
   "nbconvert_exporter": "python",
   "pygments_lexer": "ipython3",
   "version": "3.7.3"
  }
 },
 "nbformat": 4,
 "nbformat_minor": 2
}
